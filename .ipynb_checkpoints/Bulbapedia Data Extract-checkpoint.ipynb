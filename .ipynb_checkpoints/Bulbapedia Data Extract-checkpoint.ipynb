{
 "cells": [
  {
   "cell_type": "markdown",
   "metadata": {},
   "source": [
    "# Util Functions\n",
    "---"
   ]
  },
  {
   "cell_type": "markdown",
   "metadata": {},
   "source": [
    "- ### Formatar uma saída."
   ]
  },
  {
   "cell_type": "code",
   "execution_count": 12,
   "metadata": {},
   "outputs": [],
   "source": [
    "def get_formatted_message(poke_info):\n",
    "    type_label = 'Types' if len(poke_info['types']) > 1 else 'Type'\n",
    "\n",
    "    return \"\"\"\\\n",
    "########################################################################################\n",
    "# Index: %d\n",
    "# Name: %s / %s (%s)\n",
    "# Caregory: %s\n",
    "# %s: %s\n",
    "########################################################################################\n",
    "    \"\"\" % (\n",
    "        poke_info['core']['index'],\n",
    "        poke_info['core']['name'],\n",
    "        poke_info['core']['jp_name'],\n",
    "        poke_info['core']['jp_rom_name'],\n",
    "        poke_info['core']['category'],\n",
    "        type_label,\n",
    "        ' / '.join(poke_info['types'])\n",
    "    )\n"
   ]
  },
  {
   "cell_type": "markdown",
   "metadata": {},
   "source": [
    "---\n",
    "&nbsp;\n",
    "- ### Recriar arquivos dado o nome."
   ]
  },
  {
   "cell_type": "code",
   "execution_count": 13,
   "metadata": {},
   "outputs": [],
   "source": [
    "import os\n",
    "\n",
    "def recreate_file(file_name):\n",
    "    if (os.path.exists(file_name)):\n",
    "        os.remove(file_name)\n",
    "\n",
    "    open(file_name, 'x')\n",
    "\n"
   ]
  },
  {
   "cell_type": "markdown",
   "metadata": {},
   "source": [
    "# BS4 Related\n",
    "---"
   ]
  },
  {
   "cell_type": "markdown",
   "metadata": {},
   "source": [
    "- ### Carregar a página destino e retornar o soup."
   ]
  },
  {
   "cell_type": "code",
   "execution_count": 5,
   "metadata": {},
   "outputs": [],
   "source": [
    "from urllib.request import urlopen as uOpen, Request as uReq\n",
    "from bs4 import BeautifulSoup as soup\n",
    "\n",
    "def get_poke_soup(link):\n",
    "    uClient         = uReq(link, headers={'User-Agent': 'Magic Browser'})\n",
    "    uCon            = uOpen(uClient)\n",
    "    poke_page_html  = uCon.read()\n",
    "    uCon.close()\n",
    "    \n",
    "    return soup(poke_page_html, 'html.parser')"
   ]
  },
  {
   "cell_type": "markdown",
   "metadata": {},
   "source": [
    "---\n",
    "&nbsp;\n",
    "- ### Checar se é a última página a ser verificada.\n",
    "    - Em alguns casos, quando tá perto do lançamento de um novo jogo e só se tem informação de um ou mais pokémons, às vezes o Bulbapédia coloca informações não oficiais com um layout diferente."
   ]
  },
  {
   "cell_type": "code",
   "execution_count": 6,
   "metadata": {},
   "outputs": [],
   "source": [
    "def check_last_page(poke_soup):\n",
    "    return poke_soup.find(id='mw-content-text').table.a['href'] == \"/wiki/File:BulbaShadow.png\""
   ]
  },
  {
   "cell_type": "markdown",
   "metadata": {},
   "source": [
    "---\n",
    "&nbsp;\n",
    "- ### Pegar o link do próximo pokémon"
   ]
  },
  {
   "cell_type": "code",
   "execution_count": 7,
   "metadata": {},
   "outputs": [],
   "source": [
    "def get_next_pokemon_link(poke_soup):\n",
    "    npl = poke_soup.find(id='mw-content-text').table\n",
    "    try:\n",
    "        npl = npl.findChildren('tr', recursive=False)[1]    \\\n",
    "                 .findChildren('td', recursive=False)[2]\n",
    "    except IndexError:\n",
    "        npl = npl.findChildren('tr', recursive=False)[0]    \\\n",
    "                 .findChildren('td', recursive=False)[2]\n",
    "    finally:\n",
    "        return npl.find('a')['href']            "
   ]
  },
  {
   "cell_type": "code",
   "execution_count": 8,
   "metadata": {},
   "outputs": [],
   "source": [
    "def get_poke_info(poke_soup):\n",
    "    info_table = poke_soup                      \\\n",
    "                    .find(id='mw-content-text') \\\n",
    "                    .find_all('table', recursive=False)[1]\n",
    "\n",
    "    core  = get_core_poke_info(info_table)\n",
    "    types = get_poke_types(info_table)\n",
    "    \n",
    "    return {\n",
    "        'core': {\n",
    "            'index':       core[0],\n",
    "            'name':        core[1],\n",
    "            'category':    core[2],\n",
    "            'jp_name':     core[3],\n",
    "            'jp_rom_name': core[4]\n",
    "        },\n",
    "        'types': types\n",
    "    }"
   ]
  },
  {
   "cell_type": "code",
   "execution_count": 9,
   "metadata": {},
   "outputs": [],
   "source": [
    "def get_core_poke_info(info_table):\n",
    "    base_info_container = info_table.tr.td.table.tr\n",
    "\n",
    "    info_container = base_info_container.td.table.tr      \\\n",
    "                        .find_all('td', recursive=False)\n",
    "    \n",
    "    return (\n",
    "        int(base_info_container.th.find('a').text.replace('#', '')), # index\n",
    "\n",
    "        info_container[0].big.text,                                  # name\n",
    "        info_container[0].a.text,                                    # category\n",
    "        info_container[1].span.text,                                 # jp_name\n",
    "        info_container[1].i.text                                     # jp_rom_name\n",
    "    )"
   ]
  },
  {
   "cell_type": "code",
   "execution_count": 10,
   "metadata": {},
   "outputs": [],
   "source": [
    "def get_poke_types(info_table):\n",
    "    types = info_table.find_all('tr', recursive=False)[1]           \\\n",
    "                        .table.find('td', attrs={'style': None})    \\\n",
    "                        .find_all('a')\n",
    "    \n",
    "    return [t.text for t in types if t.text != 'Unknown']\n"
   ]
  },
  {
   "cell_type": "markdown",
   "metadata": {},
   "source": [
    "# Main Cycle\n",
    "---"
   ]
  },
  {
   "cell_type": "code",
   "execution_count": null,
   "metadata": {},
   "outputs": [],
   "source": [
    "    BASE_URL  = 'https://bulbapedia.bulbagarden.net'\n",
    "    END_URL   = '/wiki/%3F%3F%3F_(Pok%C3%A9mon)'\n",
    "    FILE_NAME = 'pokemon_list.txt'"
   ]
  },
  {
   "cell_type": "code",
   "execution_count": 15,
   "metadata": {
    "scrolled": true
   },
   "outputs": [
    {
     "ename": "NameError",
     "evalue": "name 'FILE_NAME' is not defined",
     "output_type": "error",
     "traceback": [
      "\u001b[0;31m---------------------------------------------------------------------------\u001b[0m",
      "\u001b[0;31mNameError\u001b[0m                                 Traceback (most recent call last)",
      "\u001b[0;32m<ipython-input-15-69379fa5b329>\u001b[0m in \u001b[0;36m<module>\u001b[0;34m\u001b[0m\n\u001b[0;32m----> 1\u001b[0;31m \u001b[0mrecreate_file\u001b[0m\u001b[0;34m(\u001b[0m\u001b[0mFILE_NAME\u001b[0m\u001b[0;34m)\u001b[0m\u001b[0;34m\u001b[0m\u001b[0;34m\u001b[0m\u001b[0m\n\u001b[0m\u001b[1;32m      2\u001b[0m \u001b[0;34m\u001b[0m\u001b[0m\n\u001b[1;32m      3\u001b[0m \u001b[0;32mwith\u001b[0m \u001b[0mopen\u001b[0m\u001b[0;34m(\u001b[0m\u001b[0mFILE_NAME\u001b[0m\u001b[0;34m,\u001b[0m \u001b[0;34m'w'\u001b[0m\u001b[0;34m)\u001b[0m \u001b[0;32mas\u001b[0m \u001b[0mf\u001b[0m\u001b[0;34m:\u001b[0m\u001b[0;34m\u001b[0m\u001b[0;34m\u001b[0m\u001b[0m\n\u001b[1;32m      4\u001b[0m     \u001b[0mnext_pokemon_link\u001b[0m \u001b[0;34m=\u001b[0m \u001b[0;34m'/wiki/Bulbasaur_%28Pok%C3%A9mon%29'\u001b[0m\u001b[0;34m\u001b[0m\u001b[0;34m\u001b[0m\u001b[0m\n\u001b[1;32m      5\u001b[0m \u001b[0;34m\u001b[0m\u001b[0m\n",
      "\u001b[0;31mNameError\u001b[0m: name 'FILE_NAME' is not defined"
     ]
    }
   ],
   "source": [
    "    recreate_file(FILE_NAME)\n",
    "\n",
    "    with open(FILE_NAME, 'w') as f:\n",
    "        next_pokemon_link = '/wiki/Bulbasaur_%28Pok%C3%A9mon%29'\n",
    "\n",
    "        while(True):\n",
    "            poke_soup = get_poke_soup(f'{BASE_URL}{next_pokemon_link}')\n",
    "            if check_last_page(poke_soup):\n",
    "                break\n",
    "            \n",
    "            poke_info = get_poke_info(poke_soup)\n",
    "            message   = get_formatted_message(poke_info)\n",
    "\n",
    "            f.write(message + '\\n')\n",
    "            print(message)\n",
    "\n",
    "            next_pokemon_link = get_next_pokemon_link(poke_soup)\n",
    "            if (next_pokemon_link == END_URL):\n",
    "                break\n",
    "            \n",
    "\n",
    "        print(\"\\n\\n########## FINISHED ##########\\n\\n\")\n"
   ]
  }
 ],
 "metadata": {
  "kernelspec": {
   "display_name": "Python 3",
   "language": "python",
   "name": "python3"
  },
  "language_info": {
   "codemirror_mode": {
    "name": "ipython",
    "version": 3
   },
   "file_extension": ".py",
   "mimetype": "text/x-python",
   "name": "python",
   "nbconvert_exporter": "python",
   "pygments_lexer": "ipython3",
   "version": "3.7.4"
  }
 },
 "nbformat": 4,
 "nbformat_minor": 2
}
