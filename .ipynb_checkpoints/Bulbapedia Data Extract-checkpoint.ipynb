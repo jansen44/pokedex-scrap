{
 "cells": [
  {
   "cell_type": "markdown",
   "metadata": {},
   "source": [
    "# Imports & Contants\n",
    "---"
   ]
  },
  {
   "cell_type": "code",
   "execution_count": 5,
   "metadata": {},
   "outputs": [],
   "source": [
    "# Native\n",
    "import os\n",
    "import csv\n",
    "from urllib.request import urlopen as uOpen, Request as uReq\n",
    "\n",
    "# Third-parties\n",
    "from bs4 import BeautifulSoup as soup"
   ]
  },
  {
   "cell_type": "code",
   "execution_count": 6,
   "metadata": {},
   "outputs": [],
   "source": [
    "BASE_URL  = 'https://bulbapedia.bulbagarden.net'\n",
    "END_URL   = '/wiki/%3F%3F%3F_(Pok%C3%A9mon)'\n",
    "FILE_NAME = 'pokemon_list.txt'\n",
    "CSV_NAME  = 'pokemon.csv'\n",
    "CURRENT_KEYS = [\n",
    "    'image_link', \n",
    "    'index', \n",
    "    'name', \n",
    "    'categories', \n",
    "    'jp_name', \n",
    "    'jp_rom_name', \n",
    "    'types', \n",
    "    'abilities', \n",
    "    'gender_ratio', \n",
    "    'catch_rate', \n",
    "    'egg_groups', \n",
    "    'hatch_time', \n",
    "    'height', \n",
    "    'weight', \n",
    "    'mega_stones'\n",
    "]"
   ]
  },
  {
   "cell_type": "markdown",
   "metadata": {},
   "source": [
    "# Util Functions\n",
    "---"
   ]
  },
  {
   "cell_type": "markdown",
   "metadata": {},
   "source": [
    "- ### Formatar uma saída."
   ]
  },
  {
   "cell_type": "code",
   "execution_count": 7,
   "metadata": {},
   "outputs": [],
   "source": [
    "def get_formatted_message(poke_info):\n",
    "    category_label   = 'Categories'  if len(poke_info['categories'])  > 1 else 'Category'\n",
    "    type_label       = 'Types'       if len(poke_info['types'])       > 1 else 'Type'\n",
    "    ability_label    = 'Abilities'   if len(poke_info['abilities'])   > 1 else 'Ability'\n",
    "    egg_group_label  = 'Egg Groups'  if len(poke_info['egg_groups'])  > 1 else 'Egg Group'\n",
    "    mega_stone_label = 'Mega Stones' if len(poke_info['mega_stones']) > 1 else 'Mega Stone'\n",
    "    \n",
    "\n",
    "    return \"\"\"\\\n",
    "########################################################################################\n",
    "# Image: %s\n",
    "# Index: %d\n",
    "# Name: %s / %s (%s)\n",
    "# %s: %s\n",
    "# %s: %s\n",
    "# ============================================================\n",
    "# %s: \\n# - %s\n",
    "# ============================================================\n",
    "# Gender Ratio: %s\n",
    "# Catch Rate: %s\n",
    "# ============================================================\n",
    "# %s: %s\n",
    "# Hatch Time: %s\n",
    "# ============================================================\n",
    "# Height: %s\n",
    "# Weight: %s\n",
    "# ============================================================\n",
    "# %s: %s\n",
    "########################################################################################\n",
    "    \"\"\" % (\n",
    "        poke_info['image_link'], poke_info['index'], poke_info['name'], \n",
    "        poke_info['jp_name'], poke_info['jp_rom_name'],\n",
    "        \n",
    "        category_label, ' / '.join(poke_info['categories']),\n",
    "        type_label,     ' / '.join(poke_info['types']),\n",
    "        ability_label,  ' \\n# - '.join(poke_info['abilities']),\n",
    "        \n",
    "        ' / '.join(poke_info['gender_ratio']) if len(poke_info['gender_ratio']) > 0 else \"Genderless\",\n",
    "        \n",
    "        poke_info['catch_rate'],\n",
    "        \n",
    "        egg_group_label, ' / '.join(poke_info['egg_groups']),\n",
    "        poke_info['hatch_time'],\n",
    "        \n",
    "        ' / '.join(poke_info['height']),\n",
    "        ' / '.join(poke_info['weight']),\n",
    "        \n",
    "        mega_stone_label,\n",
    "        ' / '.join(poke_info['mega_stones']) if len(poke_info['mega_stones']) > 0 else '---',\n",
    "    )\n"
   ]
  },
  {
   "cell_type": "markdown",
   "metadata": {},
   "source": [
    "---\n",
    "&nbsp;\n",
    "- ### Recriar arquivos dado o nome."
   ]
  },
  {
   "cell_type": "code",
   "execution_count": 8,
   "metadata": {},
   "outputs": [],
   "source": [
    "def recreate_file(file_name):\n",
    "    if (os.path.exists(file_name)):\n",
    "        os.remove(file_name)\n",
    "\n",
    "    open(file_name, 'x')\n"
   ]
  },
  {
   "cell_type": "markdown",
   "metadata": {},
   "source": [
    "- ### Escrever headers e colunas csv"
   ]
  },
  {
   "cell_type": "code",
   "execution_count": 28,
   "metadata": {},
   "outputs": [],
   "source": [
    "def write_csv_headers():\n",
    "    with open(CSV_NAME, 'w') as csvfile:\n",
    "        writer = csv.DictWriter(csvfile, fieldnames=CURRENT_KEYS)\n",
    "        writer.writeheader()"
   ]
  },
  {
   "cell_type": "markdown",
   "metadata": {},
   "source": [
    "- ### Format object to CSV"
   ]
  },
  {
   "cell_type": "code",
   "execution_count": 9,
   "metadata": {},
   "outputs": [],
   "source": [
    "def format_to_csv(poke_info):\n",
    "    return {\n",
    "        'image_link':   f'=IMAGE(\\\"{poke_info[\"image_link\"]}\\\")',\n",
    "        'index':        poke_info['index'],\n",
    "        'name':         poke_info['name'],\n",
    "        'categories':   ' \\n'.join(['- ' + p for p in poke_info['categories']]),\n",
    "        'jp_name':      poke_info['jp_name'],\n",
    "        'jp_rom_name':  poke_info['jp_rom_name'],\n",
    "        'types':        ' \\n'.join(['- ' + p for p in poke_info['types']]),\n",
    "        'abilities':    ' \\n'.join(['- ' + p for p in poke_info['abilities']]),\n",
    "        'gender_ratio': ' \\n'.join(['- ' + p for p in poke_info['gender_ratio']]),\n",
    "        'catch_rate':   poke_info['catch_rate'],\n",
    "        'egg_groups':   ' \\n'.join(['- ' + p for p in poke_info['egg_groups']]),\n",
    "        'hatch_time':   poke_info['hatch_time'],\n",
    "        'height':       ' \\n'.join(['- ' + p for p in poke_info['height']]),\n",
    "        'weight':       ' \\n'.join(['- ' + p for p in poke_info['weight']]),\n",
    "        'mega_stones':  ' \\n'.join(['- ' + p for p in poke_info['mega_stones']]),\n",
    "    }\n",
    "        "
   ]
  },
  {
   "cell_type": "markdown",
   "metadata": {},
   "source": [
    "- ### Append to CSV File"
   ]
  },
  {
   "cell_type": "code",
   "execution_count": 10,
   "metadata": {},
   "outputs": [],
   "source": [
    "def append_csv(poke_info):\n",
    "    formatted_poke = format_to_csv(poke_info)\n",
    "    keys           = formatted_poke.keys()\n",
    "\n",
    "    with open(CSV_NAME, 'a') as csvfile:\n",
    "        writer = csv.DictWriter(csvfile, fieldnames=keys)\n",
    "        writer.writerow(formatted_poke)\n",
    "        "
   ]
  },
  {
   "cell_type": "markdown",
   "metadata": {},
   "source": [
    "- ### Pegar link de um pokémon"
   ]
  },
  {
   "cell_type": "code",
   "execution_count": 11,
   "metadata": {},
   "outputs": [],
   "source": [
    "def get_pokemon_link(poke_name):\n",
    "        return f'/wiki/{poke_name.capitalize()}_%28Pok%C3%A9mon%29'"
   ]
  },
  {
   "cell_type": "markdown",
   "metadata": {},
   "source": [
    "# Core Functions\n",
    "---"
   ]
  },
  {
   "cell_type": "markdown",
   "metadata": {},
   "source": [
    "- ### Carregar a página destino e retornar o soup."
   ]
  },
  {
   "cell_type": "code",
   "execution_count": 12,
   "metadata": {},
   "outputs": [],
   "source": [
    "def get_poke_soup(link):\n",
    "    uClient         = uReq(link, headers={'User-Agent': 'Magic Browser'})\n",
    "    uCon            = uOpen(uClient)\n",
    "    poke_page_html  = uCon.read()\n",
    "    uCon.close()\n",
    "    \n",
    "    return soup(poke_page_html, 'html.parser')"
   ]
  },
  {
   "cell_type": "markdown",
   "metadata": {},
   "source": [
    "---\n",
    "&nbsp;\n",
    "- ### Checar se é a última página a ser verificada.\n",
    "    - Em alguns casos, quando tá perto do lançamento de um novo jogo e só se tem informação de um ou mais pokémons, às vezes o Bulbapédia coloca informações não oficiais com um layout diferente."
   ]
  },
  {
   "cell_type": "code",
   "execution_count": 13,
   "metadata": {},
   "outputs": [],
   "source": [
    "def check_last_page(poke_soup):\n",
    "    return poke_soup.find(id='mw-content-text').table.a['href'] == \"/wiki/File:BulbaShadow.png\""
   ]
  },
  {
   "cell_type": "markdown",
   "metadata": {},
   "source": [
    "---\n",
    "&nbsp;\n",
    "- ### Pegar informações do Pokémon\n",
    "    - Essa é a função core, todas as funções de extração de dados são chamadas aqui."
   ]
  },
  {
   "cell_type": "code",
   "execution_count": 14,
   "metadata": {},
   "outputs": [],
   "source": [
    "def get_poke_info(poke_soup):\n",
    "    info_table = poke_soup                      \\\n",
    "                    .find(id='mw-content-text') \\\n",
    "                    .find_all('table', recursive=False)[1]\n",
    "\n",
    "    core          = get_core_poke_info(info_table)\n",
    "    types         = get_poke_types(info_table)\n",
    "    abilities     = get_poke_abilities(info_table)\n",
    "    gender_ratios = get_poke_gender_ratio(info_table)\n",
    "    catch_rate    = get_poke_catch_ratio(info_table)\n",
    "    egg_groups    = get_poke_egg_group(info_table)\n",
    "    hatch_time    = get_poke_hatch_time(info_table)\n",
    "    height        = get_poke_height(info_table)\n",
    "    weight        = get_poke_weight(info_table)\n",
    "    mega_stones   = get_poke_megastones(info_table)\n",
    "    \n",
    "    return {\n",
    "        'image_link':   core[0],\n",
    "        'index':        core[1],\n",
    "        'name':         core[2],\n",
    "        'categories':   core[3],\n",
    "        'jp_name':      core[4],\n",
    "        'jp_rom_name':  core[5],\n",
    "        'types':        types,\n",
    "        'abilities':    abilities,\n",
    "        'gender_ratio': gender_ratios,\n",
    "        'catch_rate':   catch_rate,\n",
    "        'egg_groups':   egg_groups,\n",
    "        'hatch_time':   hatch_time,\n",
    "        'height':       height,\n",
    "        'weight':       weight,\n",
    "        'mega_stones':  mega_stones\n",
    "    }"
   ]
  },
  {
   "cell_type": "markdown",
   "metadata": {},
   "source": [
    "# Data Extraction Functions\n",
    "---"
   ]
  },
  {
   "cell_type": "markdown",
   "metadata": {},
   "source": [
    "- ### Pegar o link do próximo pokémon\n",
    "    - Nessa parte da página, o Bulbapédia pode colocar trs a mais pra informar algo (geralmente relacionado ao Pokemon Go), por isso esse tratamento."
   ]
  },
  {
   "cell_type": "code",
   "execution_count": 15,
   "metadata": {},
   "outputs": [],
   "source": [
    "def get_next_pokemon_link(poke_soup):\n",
    "    npl = poke_soup.find(id='mw-content-text').table\n",
    "    try:\n",
    "        npl = npl.findChildren('tr', recursive=False)[1]    \\\n",
    "                 .findChildren('td', recursive=False)[2]\n",
    "    except IndexError:\n",
    "        npl = npl.findChildren('tr', recursive=False)[0]    \\\n",
    "                 .findChildren('td', recursive=False)[2]\n",
    "    finally:\n",
    "        return npl.find('a')['href']            "
   ]
  },
  {
   "cell_type": "markdown",
   "metadata": {},
   "source": [
    "---\n",
    "&nbsp;\n",
    "- ### Pegar informações core do pokémon:\n",
    "    - Index (número na NationalDex)\n",
    "    - Nome\n",
    "    - Categoria\n",
    "    - Nome (JP)\n",
    "    - Nome (JP/Romaji)"
   ]
  },
  {
   "cell_type": "code",
   "execution_count": 16,
   "metadata": {},
   "outputs": [],
   "source": [
    "def get_core_poke_info(info_table):\n",
    "    base_info_container = info_table.tr.td.table.tr\n",
    "\n",
    "    info_container = base_info_container.td.table.tr      \\\n",
    "                        .find_all('td', recursive=False)\n",
    "    \n",
    "    category = info_container[0].a.find_all('span')\n",
    "    categories = [cat.text for cat in category]\n",
    "    \n",
    "    if len(categories) > 1:\n",
    "        categories = list(filter(lambda cat: cat.find('Pokémon') == -1, categories))\n",
    "        categories = list(map(lambda cat: cat + ' Pokémon', categories))\n",
    "    \n",
    "    image_link = 'https:' + info_table.img['src']\n",
    "    \n",
    "    return (\n",
    "        image_link,                                                  # image_link\n",
    "        int(base_info_container.th.find('a').text.replace('#', '')), # index\n",
    "        info_container[0].big.text,                                  # name\n",
    "        categories,                                                  # category\n",
    "        info_container[1].span.text,                                 # jp_name\n",
    "        info_container[1].i.text                                     # jp_rom_name\n",
    "    )"
   ]
  },
  {
   "cell_type": "markdown",
   "metadata": {},
   "source": [
    "---\n",
    "&nbsp;\n",
    "- ### Pegar tipos do pokémon."
   ]
  },
  {
   "cell_type": "code",
   "execution_count": 17,
   "metadata": {},
   "outputs": [],
   "source": [
    "def get_poke_types(info_table):\n",
    "    types = info_table.find_all('tr', recursive=False)[1]          \\\n",
    "                      .table.find('td', attrs={'style': None}) \\\n",
    "                      .find_all('a')\n",
    "    \n",
    "    return [t.text for t in types if t.text != 'Unknown']\n"
   ]
  },
  {
   "cell_type": "markdown",
   "metadata": {},
   "source": [
    "---\n",
    "&nbsp;\n",
    "- ### Pegar abilidades do pokémon."
   ]
  },
  {
   "cell_type": "code",
   "execution_count": 18,
   "metadata": {},
   "outputs": [],
   "source": [
    "def get_poke_abilities(info_table):\n",
    "    ability_title = info_table.find('a', attrs={'title': 'Ability'})\n",
    "    abilities = []\n",
    "\n",
    "    for parent in ability_title.parents:        \n",
    "        if parent.name == 'td':\n",
    "            abilities_container = parent.table.find_all('td')\n",
    "            \n",
    "            for td in abilities_container:\n",
    "                if not td.has_attr('style') or (not 'display: none' in td['style']):\n",
    "                    ability = td.find('a').text\n",
    "\n",
    "                    hidden_ability_container = td.find('small')\n",
    "                    if  hidden_ability_container != None:\n",
    "                        ability += f' ({hidden_ability_container.text.strip()})'\n",
    "\n",
    "                    abilities.append(ability)\n",
    "            break\n",
    "    \n",
    "    \n",
    "    return abilities"
   ]
  },
  {
   "cell_type": "markdown",
   "metadata": {},
   "source": [
    "- ### Pegar gender ratios."
   ]
  },
  {
   "cell_type": "code",
   "execution_count": 19,
   "metadata": {},
   "outputs": [],
   "source": [
    "def get_poke_gender_ratio(info_table):\n",
    "    gender_ratio_titles = info_table.find('a', attrs={'title': 'List of Pokémon by gender ratio'})\n",
    "    ratios = []\n",
    "    \n",
    "    for parent in gender_ratio_titles.parents:        \n",
    "        if parent.name == 'td':\n",
    "            ratios_container = parent.table.find_all('td')\n",
    "            \n",
    "            for td in ratios_container:\n",
    "                unformatted_ratio = td.find('a')\n",
    "                if not td.has_attr('style') and unformatted_ratio != None:\n",
    "                    unformatted_ratio = td.find('a').text\n",
    "                    ratios = list(map(lambda r: r.strip(), unformatted_ratio.split(',')))\n",
    "\n",
    "            break\n",
    "    return ratios"
   ]
  },
  {
   "cell_type": "markdown",
   "metadata": {},
   "source": [
    "- ### Pegar catch rate"
   ]
  },
  {
   "cell_type": "code",
   "execution_count": 20,
   "metadata": {},
   "outputs": [],
   "source": [
    "def get_poke_catch_ratio(info_table):\n",
    "    catch_ratio_titles = info_table.find('a', attrs={'title': 'Catch rate'})\n",
    "    ratio = \"\"\n",
    "    \n",
    "    for parent in catch_ratio_titles.parents:        \n",
    "        if parent.name == 'td':\n",
    "            ratio = parent.table.td.text.strip()\n",
    "            break\n",
    "    return ratio"
   ]
  },
  {
   "cell_type": "markdown",
   "metadata": {},
   "source": [
    "- ### Pegar Egg Group."
   ]
  },
  {
   "cell_type": "code",
   "execution_count": 21,
   "metadata": {},
   "outputs": [],
   "source": [
    "def get_poke_egg_group(info_table):\n",
    "    egg_group_link = info_table.find('a', attrs={'title': 'Egg Group'})\n",
    "    groups = []\n",
    "    \n",
    "    for parent in egg_group_link.parents:\n",
    "        if parent.name == 'td':\n",
    "            egg_groups = parent.table.find_all('span')\n",
    "            \n",
    "            for egg_group in egg_groups:\n",
    "                groups.append(egg_group.text)\n",
    "                \n",
    "            break\n",
    "    \n",
    "    return groups"
   ]
  },
  {
   "cell_type": "markdown",
   "metadata": {},
   "source": [
    "- ### Pegar Hatch Time"
   ]
  },
  {
   "cell_type": "code",
   "execution_count": 22,
   "metadata": {},
   "outputs": [],
   "source": [
    "def get_poke_hatch_time(info_table):\n",
    "    hatch_time_link = info_table.find('a', attrs={'title': 'Egg cycle'})\n",
    "\n",
    "    for parent in hatch_time_link.parents:\n",
    "        if parent.name == 'td':\n",
    "            hatch_time = parent.table.td.text.strip()\n",
    "\n",
    "            hatch_time_formatted = hatch_time.split('Egg')\n",
    "            if len(hatch_time_formatted) > 1:\n",
    "                hatch_time = ' (Egg'.join(hatch_time_formatted)\n",
    "                hatch_time += ')'\n",
    "                \n",
    "            return hatch_time"
   ]
  },
  {
   "cell_type": "markdown",
   "metadata": {},
   "source": [
    "- ### Pegar Altura"
   ]
  },
  {
   "cell_type": "code",
   "execution_count": 23,
   "metadata": {},
   "outputs": [],
   "source": [
    "def get_poke_height(info_table):\n",
    "    height_link = info_table.find('a', attrs={'title': 'List of Pokémon by height'})\n",
    "    heights = []\n",
    "    \n",
    "    for parent in height_link.parents:\n",
    "        if parent.name == 'td':\n",
    "            height_container = parent.table.find('tr', attrs={'style': None})\n",
    "            \n",
    "            for height in height_container.find_all('td'):\n",
    "                heights.append(height.text.strip())\n",
    "            \n",
    "            break\n",
    "    \n",
    "    return heights"
   ]
  },
  {
   "cell_type": "markdown",
   "metadata": {},
   "source": [
    "- ### Pegar Peso"
   ]
  },
  {
   "cell_type": "code",
   "execution_count": 24,
   "metadata": {},
   "outputs": [],
   "source": [
    "def get_poke_weight(info_table):\n",
    "    weight_link = info_table.find('a', attrs={'title': 'Weight'})\n",
    "    weights = []\n",
    "    \n",
    "    for parent in weight_link.parents:\n",
    "        if parent.name == 'td':\n",
    "            weight_container = parent.table.find('tr', attrs={'style': None})\n",
    "            \n",
    "            for weight in weight_container.find_all('td'):\n",
    "                weights.append(weight.text.strip())\n",
    "            \n",
    "            break\n",
    "    \n",
    "    return weights"
   ]
  },
  {
   "cell_type": "markdown",
   "metadata": {},
   "source": [
    "- ### MegaStone"
   ]
  },
  {
   "cell_type": "code",
   "execution_count": 25,
   "metadata": {},
   "outputs": [],
   "source": [
    "def get_poke_megastones(info_table):\n",
    "    mega_stone = info_table.find_all('a', attrs={'title': 'Mega Stone'})\n",
    "    mega_stone = list(filter(lambda ms: ms['href'] != '/wiki/Mega_Stone', mega_stone))\n",
    "    return list(map(lambda ms: ms.text, mega_stone)) if len(mega_stone) > 0 else []"
   ]
  },
  {
   "cell_type": "markdown",
   "metadata": {},
   "source": [
    "# Main Cycle\n",
    "---"
   ]
  },
  {
   "cell_type": "code",
   "execution_count": 29,
   "metadata": {
    "scrolled": true
   },
   "outputs": [
    {
     "name": "stdout",
     "output_type": "stream",
     "text": [
      "/wiki/Bulbasaur_%28Pok%C3%A9mon%29\n",
      "########################################################################################\n",
      "# Image: https://cdn.bulbagarden.net/upload/thumb/2/21/001Bulbasaur.png/250px-001Bulbasaur.png\n",
      "# Index: 1\n",
      "# Name: Bulbasaur / フシギダネ (Fushigidane)\n",
      "# Category: Seed Pokémon\n",
      "# Types: Grass / Poison\n",
      "# ============================================================\n",
      "# Abilities: \n",
      "# - Overgrow \n",
      "# - Chlorophyll (Hidden Ability)\n",
      "# ============================================================\n",
      "# Gender Ratio: 87.5% male / 12.5% female\n",
      "# Catch Rate: 45 (11.9%)\n",
      "# ============================================================\n",
      "# Egg Groups: Monster / Grass\n",
      "# Hatch Time: 5140 - 5396 steps\n",
      "# ============================================================\n",
      "# Height: 2'04\" / 0.7 m\n",
      "# Weight: 15.2 lbs. / 6.9 kg\n",
      "# ============================================================\n",
      "# Mega Stone: ---\n",
      "########################################################################################\n",
      "    \n",
      "/wiki/Ivysaur_(Pok%C3%A9mon)\n",
      "########################################################################################\n",
      "# Image: https://cdn.bulbagarden.net/upload/thumb/7/73/002Ivysaur.png/250px-002Ivysaur.png\n",
      "# Index: 2\n",
      "# Name: Ivysaur / フシギソウ (Fushigisou)\n",
      "# Category: Seed Pokémon\n",
      "# Types: Grass / Poison\n",
      "# ============================================================\n",
      "# Abilities: \n",
      "# - Overgrow \n",
      "# - Chlorophyll (Hidden Ability)\n",
      "# ============================================================\n",
      "# Gender Ratio: 87.5% male / 12.5% female\n",
      "# Catch Rate: 45 (11.9%)\n",
      "# ============================================================\n",
      "# Egg Groups: Monster / Grass\n",
      "# Hatch Time: 5140 - 5396 steps\n",
      "# ============================================================\n",
      "# Height: 3'03\" / 1.0 m\n",
      "# Weight: 28.7 lbs. / 13.0 kg\n",
      "# ============================================================\n",
      "# Mega Stone: ---\n",
      "########################################################################################\n",
      "    \n",
      "/wiki/Venusaur_(Pok%C3%A9mon)\n",
      "########################################################################################\n",
      "# Image: https://cdn.bulbagarden.net/upload/thumb/a/ae/003Venusaur.png/250px-003Venusaur.png\n",
      "# Index: 3\n",
      "# Name: Venusaur / フシギバナ (Fushigibana)\n",
      "# Category: Seed Pokémon\n",
      "# Types: Grass / Poison\n",
      "# ============================================================\n",
      "# Abilities: \n",
      "# - Overgrow (Venusaur) \n",
      "# - Chlorophyll (Hidden Ability) \n",
      "# - Thick Fat (Mega Venusaur)\n",
      "# ============================================================\n",
      "# Gender Ratio: 87.5% male / 12.5% female\n",
      "# Catch Rate: 45 (11.9%)\n",
      "# ============================================================\n",
      "# Egg Groups: Monster / Grass\n",
      "# Hatch Time: 5140 - 5396 steps\n",
      "# ============================================================\n",
      "# Height: 6'07\" / 2.0 m\n",
      "# Weight: 220.5 lbs. / 100.0 kg\n",
      "# ============================================================\n",
      "# Mega Stone: Venusaurite\n",
      "########################################################################################\n",
      "    \n",
      "/wiki/Charmander_(Pok%C3%A9mon)\n",
      "########################################################################################\n",
      "# Image: https://cdn.bulbagarden.net/upload/thumb/7/73/004Charmander.png/250px-004Charmander.png\n",
      "# Index: 4\n",
      "# Name: Charmander / ヒトカゲ (Hitokage)\n",
      "# Category: Lizard Pokémon\n",
      "# Type: Fire\n",
      "# ============================================================\n",
      "# Abilities: \n",
      "# - Blaze \n",
      "# - Solar Power (Hidden Ability)\n",
      "# ============================================================\n",
      "# Gender Ratio: 87.5% male / 12.5% female\n",
      "# Catch Rate: 45 (11.9%)\n",
      "# ============================================================\n",
      "# Egg Groups: Monster / Dragon\n",
      "# Hatch Time: 5140 - 5396 steps\n",
      "# ============================================================\n",
      "# Height: 2'00\" / 0.6 m\n",
      "# Weight: 18.7 lbs. / 8.5 kg\n",
      "# ============================================================\n",
      "# Mega Stone: ---\n",
      "########################################################################################\n",
      "    \n",
      "/wiki/Charmeleon_(Pok%C3%A9mon)\n",
      "########################################################################################\n",
      "# Image: https://cdn.bulbagarden.net/upload/thumb/4/4a/005Charmeleon.png/250px-005Charmeleon.png\n",
      "# Index: 5\n",
      "# Name: Charmeleon / リザード (Lizardo)\n",
      "# Category: Flame Pokémon\n",
      "# Type: Fire\n",
      "# ============================================================\n",
      "# Abilities: \n",
      "# - Blaze \n",
      "# - Solar Power (Hidden Ability)\n",
      "# ============================================================\n",
      "# Gender Ratio: 87.5% male / 12.5% female\n",
      "# Catch Rate: 45 (11.9%)\n",
      "# ============================================================\n",
      "# Egg Groups: Monster / Dragon\n",
      "# Hatch Time: 5140 - 5396 steps\n",
      "# ============================================================\n",
      "# Height: 3'07\" / 1.1 m\n",
      "# Weight: 41.9 lbs. / 19.0 kg\n",
      "# ============================================================\n",
      "# Mega Stone: ---\n",
      "########################################################################################\n",
      "    \n",
      "/wiki/Charizard_(Pok%C3%A9mon)\n",
      "########################################################################################\n",
      "# Image: https://cdn.bulbagarden.net/upload/thumb/7/7e/006Charizard.png/250px-006Charizard.png\n",
      "# Index: 6\n",
      "# Name: Charizard / リザードン (Lizardon)\n",
      "# Category: Flame Pokémon\n",
      "# Types: Fire / Flying\n",
      "# ============================================================\n",
      "# Abilities: \n",
      "# - Blaze (Charizard) \n",
      "# - Solar Power (Hidden Ability) \n",
      "# - Tough Claws (Mega Charizard X) \n",
      "# - Drought (Mega Charizard Y)\n",
      "# ============================================================\n",
      "# Gender Ratio: 87.5% male / 12.5% female\n",
      "# Catch Rate: 45 (11.9%)\n",
      "# ============================================================\n",
      "# Egg Groups: Monster / Dragon\n",
      "# Hatch Time: 5140 - 5396 steps\n",
      "# ============================================================\n",
      "# Height: 5'07\" / 1.7 m\n",
      "# Weight: 199.5 lbs. / 90.5 kg\n",
      "# ============================================================\n",
      "# Mega Stones: Charizardite X / Charizardite Y\n",
      "########################################################################################\n",
      "    \n",
      "/wiki/Squirtle_(Pok%C3%A9mon)\n",
      "########################################################################################\n",
      "# Image: https://cdn.bulbagarden.net/upload/thumb/3/39/007Squirtle.png/250px-007Squirtle.png\n",
      "# Index: 7\n",
      "# Name: Squirtle / ゼニガメ (Zenigame)\n",
      "# Category: Tiny Turtle Pokémon\n",
      "# Type: Water\n",
      "# ============================================================\n",
      "# Abilities: \n",
      "# - Torrent \n",
      "# - Rain Dish (Hidden Ability)\n",
      "# ============================================================\n",
      "# Gender Ratio: 87.5% male / 12.5% female\n",
      "# Catch Rate: 45 (11.9%)\n",
      "# ============================================================\n",
      "# Egg Groups: Monster / Water 1\n",
      "# Hatch Time: 5140 - 5396 steps\n",
      "# ============================================================\n",
      "# Height: 1'08\" / 0.5 m\n",
      "# Weight: 19.8 lbs. / 9.0 kg\n",
      "# ============================================================\n",
      "# Mega Stone: ---\n",
      "########################################################################################\n",
      "    \n",
      "/wiki/Wartortle_(Pok%C3%A9mon)\n",
      "########################################################################################\n",
      "# Image: https://cdn.bulbagarden.net/upload/thumb/0/0c/008Wartortle.png/250px-008Wartortle.png\n",
      "# Index: 8\n",
      "# Name: Wartortle / カメール (Kameil)\n",
      "# Category: Turtle Pokémon\n",
      "# Type: Water\n",
      "# ============================================================\n",
      "# Abilities: \n",
      "# - Torrent \n",
      "# - Rain Dish (Hidden Ability)\n",
      "# ============================================================\n",
      "# Gender Ratio: 87.5% male / 12.5% female\n",
      "# Catch Rate: 45 (11.9%)\n",
      "# ============================================================\n",
      "# Egg Groups: Monster / Water 1\n",
      "# Hatch Time: 5140 - 5396 steps\n",
      "# ============================================================\n",
      "# Height: 3'03\" / 1.0 m\n",
      "# Weight: 49.6 lbs. / 22.5 kg\n",
      "# ============================================================\n",
      "# Mega Stone: ---\n",
      "########################################################################################\n",
      "    \n",
      "/wiki/Blastoise_(Pok%C3%A9mon)\n",
      "########################################################################################\n",
      "# Image: https://cdn.bulbagarden.net/upload/thumb/0/02/009Blastoise.png/250px-009Blastoise.png\n",
      "# Index: 9\n",
      "# Name: Blastoise / カメックス (Kamex)\n",
      "# Category: Shellfish Pokémon\n",
      "# Type: Water\n",
      "# ============================================================\n",
      "# Abilities: \n",
      "# - Torrent (Blastoise) \n",
      "# - Rain Dish (Hidden Ability) \n",
      "# - Mega Launcher (Mega Blastoise)\n",
      "# ============================================================\n",
      "# Gender Ratio: 87.5% male / 12.5% female\n",
      "# Catch Rate: 45 (11.9%)\n",
      "# ============================================================\n",
      "# Egg Groups: Monster / Water 1\n",
      "# Hatch Time: 5140 - 5396 steps\n",
      "# ============================================================\n",
      "# Height: 5'03\" / 1.6 m\n",
      "# Weight: 188.5 lbs. / 85.5 kg\n",
      "# ============================================================\n",
      "# Mega Stone: Blastoisinite\n",
      "########################################################################################\n",
      "    \n"
     ]
    },
    {
     "name": "stdout",
     "output_type": "stream",
     "text": [
      "/wiki/Caterpie_(Pok%C3%A9mon)\n",
      "########################################################################################\n",
      "# Image: https://cdn.bulbagarden.net/upload/thumb/5/5d/010Caterpie.png/250px-010Caterpie.png\n",
      "# Index: 10\n",
      "# Name: Caterpie / キャタピー (Caterpie)\n",
      "# Category: Worm Pokémon\n",
      "# Type: Bug\n",
      "# ============================================================\n",
      "# Abilities: \n",
      "# - Shield Dust \n",
      "# - Run Away (Hidden Ability)\n",
      "# ============================================================\n",
      "# Gender Ratio: 50% male / 50% female\n",
      "# Catch Rate: 255 (43.9%)\n",
      "# ============================================================\n",
      "# Egg Group: Bug\n",
      "# Hatch Time: 3855 - 4111 steps\n",
      "# ============================================================\n",
      "# Height: 1'00\" / 0.3 m\n",
      "# Weight: 6.4 lbs. / 2.9 kg\n",
      "# ============================================================\n",
      "# Mega Stone: ---\n",
      "########################################################################################\n",
      "    \n",
      "/wiki/Metapod_(Pok%C3%A9mon)\n",
      "########################################################################################\n",
      "# Image: https://cdn.bulbagarden.net/upload/thumb/c/cd/011Metapod.png/250px-011Metapod.png\n",
      "# Index: 11\n",
      "# Name: Metapod / トランセル (Transel)\n",
      "# Category: Cocoon Pokémon\n",
      "# Type: Bug\n",
      "# ============================================================\n",
      "# Ability: \n",
      "# - Shed Skin\n",
      "# ============================================================\n",
      "# Gender Ratio: 50% male / 50% female\n",
      "# Catch Rate: 120 (24.9%)\n",
      "# ============================================================\n",
      "# Egg Group: Bug\n",
      "# Hatch Time: 3855 - 4111 steps\n",
      "# ============================================================\n",
      "# Height: 2'04\" / 0.7 m\n",
      "# Weight: 21.8 lbs. / 9.9 kg\n",
      "# ============================================================\n",
      "# Mega Stone: ---\n",
      "########################################################################################\n",
      "    \n",
      "/wiki/Butterfree_(Pok%C3%A9mon)\n",
      "########################################################################################\n",
      "# Image: https://cdn.bulbagarden.net/upload/thumb/d/d1/012Butterfree.png/250px-012Butterfree.png\n",
      "# Index: 12\n",
      "# Name: Butterfree / バタフリー (Butterfree)\n",
      "# Category: Butterfly Pokémon\n",
      "# Types: Bug / Flying\n",
      "# ============================================================\n",
      "# Abilities: \n",
      "# - Compound Eyes \n",
      "# - Tinted Lens (Hidden Ability)\n",
      "# ============================================================\n",
      "# Gender Ratio: 50% male / 50% female\n",
      "# Catch Rate: 45 (11.9%)\n",
      "# ============================================================\n",
      "# Egg Group: Bug\n",
      "# Hatch Time: 3855 - 4111 steps\n",
      "# ============================================================\n",
      "# Height: 3'07\" / 1.1 m\n",
      "# Weight: 70.5 lbs. / 32.0 kg\n",
      "# ============================================================\n",
      "# Mega Stone: ---\n",
      "########################################################################################\n",
      "    \n",
      "/wiki/Weedle_(Pok%C3%A9mon)\n",
      "########################################################################################\n",
      "# Image: https://cdn.bulbagarden.net/upload/thumb/d/df/013Weedle.png/250px-013Weedle.png\n",
      "# Index: 13\n",
      "# Name: Weedle / ビードル (Beedle)\n",
      "# Category: Hairy Bug Pokémon\n",
      "# Types: Bug / Poison\n",
      "# ============================================================\n",
      "# Abilities: \n",
      "# - Shield Dust \n",
      "# - Run Away (Hidden Ability)\n",
      "# ============================================================\n",
      "# Gender Ratio: 50% male / 50% female\n",
      "# Catch Rate: 255 (43.9%)\n",
      "# ============================================================\n",
      "# Egg Group: Bug\n",
      "# Hatch Time: 3855 - 4111 steps\n",
      "# ============================================================\n",
      "# Height: 1'00\" / 0.3 m\n",
      "# Weight: 7.1 lbs. / 3.2 kg\n",
      "# ============================================================\n",
      "# Mega Stone: ---\n",
      "########################################################################################\n",
      "    \n",
      "/wiki/Kakuna_(Pok%C3%A9mon)\n",
      "########################################################################################\n",
      "# Image: https://cdn.bulbagarden.net/upload/thumb/f/f0/014Kakuna.png/250px-014Kakuna.png\n",
      "# Index: 14\n",
      "# Name: Kakuna / コクーン (Cocoon)\n",
      "# Category: Cocoon Pokémon\n",
      "# Types: Bug / Poison\n",
      "# ============================================================\n",
      "# Ability: \n",
      "# - Shed Skin\n",
      "# ============================================================\n",
      "# Gender Ratio: 50% male / 50% female\n",
      "# Catch Rate: 120 (24.9%)\n",
      "# ============================================================\n",
      "# Egg Group: Bug\n",
      "# Hatch Time: 3855 - 4111 steps\n",
      "# ============================================================\n",
      "# Height: 2'00\" / 0.6 m\n",
      "# Weight: 22.0 lbs. / 10.0 kg\n",
      "# ============================================================\n",
      "# Mega Stone: ---\n",
      "########################################################################################\n",
      "    \n"
     ]
    },
    {
     "ename": "KeyboardInterrupt",
     "evalue": "",
     "output_type": "error",
     "traceback": [
      "\u001b[0;31m---------------------------------------------------------------------------\u001b[0m",
      "\u001b[0;31mKeyboardInterrupt\u001b[0m                         Traceback (most recent call last)",
      "\u001b[0;32m<ipython-input-29-ae54542ff213>\u001b[0m in \u001b[0;36m<module>\u001b[0;34m\u001b[0m\n\u001b[1;32m      9\u001b[0m \u001b[0;34m\u001b[0m\u001b[0m\n\u001b[1;32m     10\u001b[0m     \u001b[0;32mwhile\u001b[0m\u001b[0;34m(\u001b[0m\u001b[0mnext_pokemon_link\u001b[0m \u001b[0;34m!=\u001b[0m \u001b[0mEND_URL\u001b[0m\u001b[0;34m)\u001b[0m\u001b[0;34m:\u001b[0m\u001b[0;34m\u001b[0m\u001b[0;34m\u001b[0m\u001b[0m\n\u001b[0;32m---> 11\u001b[0;31m         \u001b[0mpoke_soup\u001b[0m \u001b[0;34m=\u001b[0m \u001b[0mget_poke_soup\u001b[0m\u001b[0;34m(\u001b[0m\u001b[0;34mf'{BASE_URL}{next_pokemon_link}'\u001b[0m\u001b[0;34m)\u001b[0m\u001b[0;34m\u001b[0m\u001b[0;34m\u001b[0m\u001b[0m\n\u001b[0m\u001b[1;32m     12\u001b[0m         \u001b[0;32mif\u001b[0m \u001b[0mcheck_last_page\u001b[0m\u001b[0;34m(\u001b[0m\u001b[0mpoke_soup\u001b[0m\u001b[0;34m)\u001b[0m\u001b[0;34m:\u001b[0m\u001b[0;34m\u001b[0m\u001b[0;34m\u001b[0m\u001b[0m\n\u001b[1;32m     13\u001b[0m             \u001b[0;32mbreak\u001b[0m\u001b[0;34m\u001b[0m\u001b[0;34m\u001b[0m\u001b[0m\n",
      "\u001b[0;32m<ipython-input-12-65a3973ca51f>\u001b[0m in \u001b[0;36mget_poke_soup\u001b[0;34m(link)\u001b[0m\n\u001b[1;32m      5\u001b[0m     \u001b[0muCon\u001b[0m\u001b[0;34m.\u001b[0m\u001b[0mclose\u001b[0m\u001b[0;34m(\u001b[0m\u001b[0;34m)\u001b[0m\u001b[0;34m\u001b[0m\u001b[0;34m\u001b[0m\u001b[0m\n\u001b[1;32m      6\u001b[0m \u001b[0;34m\u001b[0m\u001b[0m\n\u001b[0;32m----> 7\u001b[0;31m     \u001b[0;32mreturn\u001b[0m \u001b[0msoup\u001b[0m\u001b[0;34m(\u001b[0m\u001b[0mpoke_page_html\u001b[0m\u001b[0;34m,\u001b[0m \u001b[0;34m'html.parser'\u001b[0m\u001b[0;34m)\u001b[0m\u001b[0;34m\u001b[0m\u001b[0;34m\u001b[0m\u001b[0m\n\u001b[0m",
      "\u001b[0;32m~/opt/anaconda3/lib/python3.7/site-packages/bs4/__init__.py\u001b[0m in \u001b[0;36m__init__\u001b[0;34m(self, markup, features, builder, parse_only, from_encoding, exclude_encodings, **kwargs)\u001b[0m\n\u001b[1;32m    301\u001b[0m             \u001b[0mself\u001b[0m\u001b[0;34m.\u001b[0m\u001b[0mreset\u001b[0m\u001b[0;34m(\u001b[0m\u001b[0;34m)\u001b[0m\u001b[0;34m\u001b[0m\u001b[0;34m\u001b[0m\u001b[0m\n\u001b[1;32m    302\u001b[0m             \u001b[0;32mtry\u001b[0m\u001b[0;34m:\u001b[0m\u001b[0;34m\u001b[0m\u001b[0;34m\u001b[0m\u001b[0m\n\u001b[0;32m--> 303\u001b[0;31m                 \u001b[0mself\u001b[0m\u001b[0;34m.\u001b[0m\u001b[0m_feed\u001b[0m\u001b[0;34m(\u001b[0m\u001b[0;34m)\u001b[0m\u001b[0;34m\u001b[0m\u001b[0;34m\u001b[0m\u001b[0m\n\u001b[0m\u001b[1;32m    304\u001b[0m                 \u001b[0;32mbreak\u001b[0m\u001b[0;34m\u001b[0m\u001b[0;34m\u001b[0m\u001b[0m\n\u001b[1;32m    305\u001b[0m             \u001b[0;32mexcept\u001b[0m \u001b[0mParserRejectedMarkup\u001b[0m\u001b[0;34m:\u001b[0m\u001b[0;34m\u001b[0m\u001b[0;34m\u001b[0m\u001b[0m\n",
      "\u001b[0;32m~/opt/anaconda3/lib/python3.7/site-packages/bs4/__init__.py\u001b[0m in \u001b[0;36m_feed\u001b[0;34m(self)\u001b[0m\n\u001b[1;32m    362\u001b[0m         \u001b[0mself\u001b[0m\u001b[0;34m.\u001b[0m\u001b[0mbuilder\u001b[0m\u001b[0;34m.\u001b[0m\u001b[0mreset\u001b[0m\u001b[0;34m(\u001b[0m\u001b[0;34m)\u001b[0m\u001b[0;34m\u001b[0m\u001b[0;34m\u001b[0m\u001b[0m\n\u001b[1;32m    363\u001b[0m \u001b[0;34m\u001b[0m\u001b[0m\n\u001b[0;32m--> 364\u001b[0;31m         \u001b[0mself\u001b[0m\u001b[0;34m.\u001b[0m\u001b[0mbuilder\u001b[0m\u001b[0;34m.\u001b[0m\u001b[0mfeed\u001b[0m\u001b[0;34m(\u001b[0m\u001b[0mself\u001b[0m\u001b[0;34m.\u001b[0m\u001b[0mmarkup\u001b[0m\u001b[0;34m)\u001b[0m\u001b[0;34m\u001b[0m\u001b[0;34m\u001b[0m\u001b[0m\n\u001b[0m\u001b[1;32m    365\u001b[0m         \u001b[0;31m# Close out any unfinished strings and close all the open tags.\u001b[0m\u001b[0;34m\u001b[0m\u001b[0;34m\u001b[0m\u001b[0;34m\u001b[0m\u001b[0m\n\u001b[1;32m    366\u001b[0m         \u001b[0mself\u001b[0m\u001b[0;34m.\u001b[0m\u001b[0mendData\u001b[0m\u001b[0;34m(\u001b[0m\u001b[0;34m)\u001b[0m\u001b[0;34m\u001b[0m\u001b[0;34m\u001b[0m\u001b[0m\n",
      "\u001b[0;32m~/opt/anaconda3/lib/python3.7/site-packages/bs4/builder/_htmlparser.py\u001b[0m in \u001b[0;36mfeed\u001b[0;34m(self, markup)\u001b[0m\n\u001b[1;32m    248\u001b[0m         \u001b[0mparser\u001b[0m\u001b[0;34m.\u001b[0m\u001b[0msoup\u001b[0m \u001b[0;34m=\u001b[0m \u001b[0mself\u001b[0m\u001b[0;34m.\u001b[0m\u001b[0msoup\u001b[0m\u001b[0;34m\u001b[0m\u001b[0;34m\u001b[0m\u001b[0m\n\u001b[1;32m    249\u001b[0m         \u001b[0;32mtry\u001b[0m\u001b[0;34m:\u001b[0m\u001b[0;34m\u001b[0m\u001b[0;34m\u001b[0m\u001b[0m\n\u001b[0;32m--> 250\u001b[0;31m             \u001b[0mparser\u001b[0m\u001b[0;34m.\u001b[0m\u001b[0mfeed\u001b[0m\u001b[0;34m(\u001b[0m\u001b[0mmarkup\u001b[0m\u001b[0;34m)\u001b[0m\u001b[0;34m\u001b[0m\u001b[0;34m\u001b[0m\u001b[0m\n\u001b[0m\u001b[1;32m    251\u001b[0m             \u001b[0mparser\u001b[0m\u001b[0;34m.\u001b[0m\u001b[0mclose\u001b[0m\u001b[0;34m(\u001b[0m\u001b[0;34m)\u001b[0m\u001b[0;34m\u001b[0m\u001b[0;34m\u001b[0m\u001b[0m\n\u001b[1;32m    252\u001b[0m         \u001b[0;32mexcept\u001b[0m \u001b[0mHTMLParseError\u001b[0m \u001b[0;32mas\u001b[0m \u001b[0me\u001b[0m\u001b[0;34m:\u001b[0m\u001b[0;34m\u001b[0m\u001b[0;34m\u001b[0m\u001b[0m\n",
      "\u001b[0;32m~/opt/anaconda3/lib/python3.7/html/parser.py\u001b[0m in \u001b[0;36mfeed\u001b[0;34m(self, data)\u001b[0m\n\u001b[1;32m    109\u001b[0m         \"\"\"\n\u001b[1;32m    110\u001b[0m         \u001b[0mself\u001b[0m\u001b[0;34m.\u001b[0m\u001b[0mrawdata\u001b[0m \u001b[0;34m=\u001b[0m \u001b[0mself\u001b[0m\u001b[0;34m.\u001b[0m\u001b[0mrawdata\u001b[0m \u001b[0;34m+\u001b[0m \u001b[0mdata\u001b[0m\u001b[0;34m\u001b[0m\u001b[0;34m\u001b[0m\u001b[0m\n\u001b[0;32m--> 111\u001b[0;31m         \u001b[0mself\u001b[0m\u001b[0;34m.\u001b[0m\u001b[0mgoahead\u001b[0m\u001b[0;34m(\u001b[0m\u001b[0;36m0\u001b[0m\u001b[0;34m)\u001b[0m\u001b[0;34m\u001b[0m\u001b[0;34m\u001b[0m\u001b[0m\n\u001b[0m\u001b[1;32m    112\u001b[0m \u001b[0;34m\u001b[0m\u001b[0m\n\u001b[1;32m    113\u001b[0m     \u001b[0;32mdef\u001b[0m \u001b[0mclose\u001b[0m\u001b[0;34m(\u001b[0m\u001b[0mself\u001b[0m\u001b[0;34m)\u001b[0m\u001b[0;34m:\u001b[0m\u001b[0;34m\u001b[0m\u001b[0;34m\u001b[0m\u001b[0m\n",
      "\u001b[0;32m~/opt/anaconda3/lib/python3.7/html/parser.py\u001b[0m in \u001b[0;36mgoahead\u001b[0;34m(self, end)\u001b[0m\n\u001b[1;32m    152\u001b[0m                     \u001b[0mj\u001b[0m \u001b[0;34m=\u001b[0m \u001b[0mn\u001b[0m\u001b[0;34m\u001b[0m\u001b[0;34m\u001b[0m\u001b[0m\n\u001b[1;32m    153\u001b[0m             \u001b[0;32melse\u001b[0m\u001b[0;34m:\u001b[0m\u001b[0;34m\u001b[0m\u001b[0;34m\u001b[0m\u001b[0m\n\u001b[0;32m--> 154\u001b[0;31m                 \u001b[0mmatch\u001b[0m \u001b[0;34m=\u001b[0m \u001b[0mself\u001b[0m\u001b[0;34m.\u001b[0m\u001b[0minteresting\u001b[0m\u001b[0;34m.\u001b[0m\u001b[0msearch\u001b[0m\u001b[0;34m(\u001b[0m\u001b[0mrawdata\u001b[0m\u001b[0;34m,\u001b[0m \u001b[0mi\u001b[0m\u001b[0;34m)\u001b[0m  \u001b[0;31m# < or &\u001b[0m\u001b[0;34m\u001b[0m\u001b[0;34m\u001b[0m\u001b[0m\n\u001b[0m\u001b[1;32m    155\u001b[0m                 \u001b[0;32mif\u001b[0m \u001b[0mmatch\u001b[0m\u001b[0;34m:\u001b[0m\u001b[0;34m\u001b[0m\u001b[0;34m\u001b[0m\u001b[0m\n\u001b[1;32m    156\u001b[0m                     \u001b[0mj\u001b[0m \u001b[0;34m=\u001b[0m \u001b[0mmatch\u001b[0m\u001b[0;34m.\u001b[0m\u001b[0mstart\u001b[0m\u001b[0;34m(\u001b[0m\u001b[0;34m)\u001b[0m\u001b[0;34m\u001b[0m\u001b[0;34m\u001b[0m\u001b[0m\n",
      "\u001b[0;31mKeyboardInterrupt\u001b[0m: "
     ]
    }
   ],
   "source": [
    "recreate_file(FILE_NAME)\n",
    "recreate_file(CSV_NAME)\n",
    "\n",
    "write_csv_headers()\n",
    "\n",
    "with open(FILE_NAME, 'w') as f:\n",
    "    next_pokemon_link = get_pokemon_link('Bulbasaur')\n",
    "\n",
    "    while next_pokemon_link != END_URL:\n",
    "        poke_soup = get_poke_soup(f'{BASE_URL}{next_pokemon_link}')\n",
    "        if check_last_page(poke_soup):\n",
    "            break\n",
    "\n",
    "        poke_info = get_poke_info(poke_soup)\n",
    "        message   = get_formatted_message(poke_info)\n",
    "        append_csv(poke_info)\n",
    "\n",
    "        f.write(f'{next_pokemon_link}\\n{message}\\n')\n",
    "        \n",
    "        print(next_pokemon_link)\n",
    "        print(message)\n",
    "\n",
    "        next_pokemon_link = get_next_pokemon_link(poke_soup)\n",
    "\n",
    "\n",
    "    print(\"\\n\\n########## FINISHED ##########\\n\\n\")"
   ]
  },
  {
   "cell_type": "markdown",
   "metadata": {},
   "source": [
    "# Teste\n",
    "---"
   ]
  },
  {
   "cell_type": "code",
   "execution_count": 22,
   "metadata": {},
   "outputs": [],
   "source": [
    "def tst_pok(poke_name, backup=False):\n",
    "    next_pokemon_link = get_pokemon_link(poke_name)\n",
    "    poke_soup         = get_poke_soup(f'{BASE_URL}{next_pokemon_link}')\n",
    "    poke_info         = get_poke_info(poke_soup)\n",
    "    \n",
    "    if backup:\n",
    "        with open('a.html', 'w') as f:\n",
    "            f.write(poke_soup.prettify())\n",
    "\n",
    "    print(get_formatted_message(poke_info))"
   ]
  },
  {
   "cell_type": "code",
   "execution_count": 23,
   "metadata": {},
   "outputs": [
    {
     "name": "stdout",
     "output_type": "stream",
     "text": [
      "########################################################################################\n",
      "# Image: https://cdn.bulbagarden.net/upload/thumb/7/7e/006Charizard.png/250px-006Charizard.png\n",
      "# Index: 6\n",
      "# Name: Charizard / リザードン (Lizardon)\n",
      "# Category: Flame Pokémon\n",
      "# Types: Fire / Flying\n",
      "# ============================================================\n",
      "# Abilities: \n",
      "# - Blaze (Charizard) \n",
      "# - Solar Power (Hidden Ability) \n",
      "# - Tough Claws (Mega Charizard X) \n",
      "# - Drought (Mega Charizard Y)\n",
      "# ============================================================\n",
      "# Gender Ratio: 87.5% male / 12.5% female\n",
      "# Catch Rate: 45 (11.9%)\n",
      "# ============================================================\n",
      "# Egg Groups: Monster / Dragon\n",
      "# Hatch Time: 5140 - 5396 steps\n",
      "# ============================================================\n",
      "# Height: 5'07\" / 1.7 m\n",
      "# Weight: 199.5 lbs. / 90.5 kg\n",
      "# ============================================================\n",
      "# Mega Stones: Charizardite X / Charizardite Y\n",
      "########################################################################################\n",
      "    \n"
     ]
    }
   ],
   "source": [
    "tst_pok('charizard')"
   ]
  },
  {
   "cell_type": "code",
   "execution_count": null,
   "metadata": {},
   "outputs": [],
   "source": []
  }
 ],
 "metadata": {
  "kernelspec": {
   "display_name": "Python 3",
   "language": "python",
   "name": "python3"
  },
  "language_info": {
   "codemirror_mode": {
    "name": "ipython",
    "version": 3
   },
   "file_extension": ".py",
   "mimetype": "text/x-python",
   "name": "python",
   "nbconvert_exporter": "python",
   "pygments_lexer": "ipython3",
   "version": "3.7.4"
  }
 },
 "nbformat": 4,
 "nbformat_minor": 2
}
